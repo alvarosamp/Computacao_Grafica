{
 "cells": [
  {
   "cell_type": "markdown",
   "id": "e9a96302",
   "metadata": {},
   "source": [
    "## Introdução sobre python\n"
   ]
  },
  {
   "cell_type": "code",
   "execution_count": 2,
   "id": "9e26b781",
   "metadata": {},
   "outputs": [],
   "source": [
    "#Declaração de variaveis\n",
    "\n",
    "#Inteiros\n",
    "idade = 21\n",
    "#Float\n",
    "altura = 1.75\n",
    "#Strings\n",
    "nome = 'alvaro'\n",
    "#Bool \n",
    "gosta_do_flamengo = True"
   ]
  },
  {
   "cell_type": "code",
   "execution_count": 4,
   "id": "d0b1916c",
   "metadata": {},
   "outputs": [
    {
     "name": "stdout",
     "output_type": "stream",
     "text": [
      "21\n",
      "1.75\n",
      "alvaro\n",
      "True\n",
      "Olá \n",
      "Sua idade é \n"
     ]
    }
   ],
   "source": [
    "# Printando valores:\n",
    "print(idade)\n",
    "print(altura)\n",
    "print(nome)\n",
    "print(gosta_do_flamengo)\n",
    "\n",
    "# Lendo valores:\n",
    "meu_nome = input(\"Entre com seu nome:\")\n",
    "\n",
    "# '+' concatena duas strings:\n",
    "print(\"Olá \" + meu_nome)\n",
    "\n",
    "\n",
    "# Podemos usar 'aspas simples' ou \"aspas duplas\" para strings:\n",
    "minha_idade = (input('Entre com sua idade:'))\n",
    "\n",
    "# Também podemos usar o próprio print para concatenar:\n",
    "print('Sua idade é', minha_idade)"
   ]
  },
  {
   "cell_type": "markdown",
   "id": "95b56618",
   "metadata": {},
   "source": [
    "## Operadores aritméticos\n",
    "\n"
   ]
  },
  {
   "cell_type": "code",
   "execution_count": null,
   "id": "1efd70b6",
   "metadata": {},
   "outputs": [],
   "source": [
    "x = float(input('Entre com um número:'))\n",
    "y = float(input('Entre com outro número:'))\n",
    "\n",
    "soma = x + y\n",
    "subtracao = x - y\n",
    "multiplicacao = x * y\n",
    "divisao = x / y\n",
    "potencia = x ** y\n",
    "resto = x % y\n",
    "divisao_inteira = x // y\n",
    "\n",
    "print('Soma:', soma)\n",
    "print('Subtração:', subtracao)\n",
    "print('Multiplicação:', multiplicacao)\n",
    "print('Divisão:', divisao)\n",
    "print('Potência:', potencia)\n",
    "print('Resto:', resto)\n",
    "print('Divisão inteira:', divisao_inteira)\n",
    "\n"
   ]
  },
  {
   "cell_type": "markdown",
   "id": "c1ad6542",
   "metadata": {},
   "source": [
    "## Operadores lógicos e de comparaçãoo"
   ]
  },
  {
   "cell_type": "markdown",
   "id": "99c6e5b8",
   "metadata": {},
   "source": [
    "### Operadores de comparação\n",
    "\n",
    "Os operadores de comparação permitem verificar igualdades e desigualdades entre valores, sendo possível verificar se tal condição é verdadeira ou falsa. Dentre eles temos:\n",
    "```python\n",
    "igual = x == y\n",
    "diferente = x != y\n",
    "menor = x < y\n",
    "maior = x > y\n",
    "menor_igual = x <= y\n",
    "maior_igual = x >= y```"
   ]
  },
  {
   "cell_type": "markdown",
   "id": "29873cd3",
   "metadata": {},
   "source": [
    "### Operadores lógicos\n",
    "\n",
    "Os operadores lógicos são operadores que recebem `bools` como argumento e retornam um `bool`. Dentre eles podem destacar:\n",
    "```python\n",
    "e_logico = x and y\n",
    "ou_logico = x or y\n",
    "nao_logico = not x```"
   ]
  },
  {
   "cell_type": "code",
   "execution_count": 6,
   "id": "bd16dab4",
   "metadata": {},
   "outputs": [
    {
     "name": "stdout",
     "output_type": "stream",
     "text": [
      "42.0 > 0.0\n"
     ]
    }
   ],
   "source": [
    "x = float(input(\"Entre com um valor: \"))\n",
    "y = float(input(\"Entre com outro valor: \"))\n",
    "\n",
    "if x > y:\n",
    "    print(x, \">\", y)\n",
    "elif x == y and x == 42:\n",
    "    print(\"A resposta para a vida, o universo e tudo mais\")\n",
    "elif x < 0 or y < 0:\n",
    "    print(\"Algum valor é negativo\")\n",
    "else:\n",
    "    print(\"Nenhum bloco acima foi executado\")"
   ]
  },
  {
   "cell_type": "code",
   "execution_count": 5,
   "id": "fe35985f",
   "metadata": {},
   "outputs": [
    {
     "name": "stdout",
     "output_type": "stream",
     "text": [
      "11.0 é maior que 10 ou menor que -100\n"
     ]
    }
   ],
   "source": [
    "x = float(input(\"Entre com um valor:\"))\n",
    "\n",
    "if 0 < x <= 10:\n",
    "    print(x, \"é maior que 0 e menor ou igual a 10\")\n",
    "elif -100 <= x <= 0:\n",
    "    print(x, \"está entre -100 e 0\")\n",
    "else:\n",
    "    print(x, \"é maior que 10 ou menor que -100\")"
   ]
  },
  {
   "cell_type": "markdown",
   "id": "9b9e728a",
   "metadata": {},
   "source": [
    "## Listas\n",
    "Podemos crias listas homogeneas(isto é , podem conter qualquer tipo de variável)"
   ]
  },
  {
   "cell_type": "code",
   "execution_count": 7,
   "id": "1a4270d7",
   "metadata": {},
   "outputs": [
    {
     "name": "stdout",
     "output_type": "stream",
     "text": [
      "['Multimidia', 100, True]\n"
     ]
    }
   ],
   "source": [
    "lista_1 = [\"Multimidia\", 100, True]\n",
    "print(lista_1)"
   ]
  },
  {
   "cell_type": "markdown",
   "id": "34647265",
   "metadata": {},
   "source": [
    "## Métodos e funções úteis para listas\n",
    "Funções e metodos uteis para manusear funções"
   ]
  },
  {
   "cell_type": "code",
   "execution_count": 8,
   "id": "c3324595",
   "metadata": {},
   "outputs": [
    {
     "name": "stdout",
     "output_type": "stream",
     "text": [
      "4\n",
      "Elemento na posição 0: 42\n",
      "Último elemento: 1.9\n",
      "Penúltimo elemento: ['Multimidia', 100, True]\n",
      "Elemento na posição 2 e 3: [False, 3.1415]\n",
      "[1.9, ['Multimidia', 100, True], 3.1415, False, 'Python', 42]\n",
      "[-20, 3, 4, 8, 10]\n",
      "[10, 8, 4, 3, -20]\n"
     ]
    }
   ],
   "source": [
    "lista_2 = [42, 'Python', 3.1415, lista_1]\n",
    "\n",
    "#Tamanho de uma lista:\n",
    "print(len(lista_2))\n",
    "\n",
    "#Adicionando um novo elemento\n",
    "lista_2.append(1.90)\n",
    "lista_2.insert(2,False)\n",
    "\n",
    "#Acessando valores individuais\n",
    "print(\"Elemento na posição 0:\", lista_2[0]) # Pega o elemento na posição 0.\n",
    "print(\"Último elemento:\", lista_2[-1]) # Pega o último elemento.\n",
    "print(\"Penúltimo elemento:\", lista_2[-2]) # Pega o penúltimo elemento.\n",
    "print(\"Elemento na posição 2 e 3:\", lista_2[2:4]) # Pega os elementos 2 e 3. Obs.: Primeiro valor incluso e último excluso.\n",
    "\n",
    "#Reverter lista\n",
    "lista_2.reverse()\n",
    "print(lista_2)\n",
    "\n",
    "#Ordenação\n",
    "lista3 = [8, 4, 3, 10, -20]\n",
    "lista3.sort()\n",
    "print(lista3)\n",
    "\n",
    "lista3.sort(reverse=True) # Ordena de forma decrescente\n",
    "print(lista3)"
   ]
  },
  {
   "cell_type": "markdown",
   "id": "d2e57ae3",
   "metadata": {},
   "source": [
    "## Elementos de repetição\n",
    "\n"
   ]
  },
  {
   "cell_type": "markdown",
   "id": "75a0c6c9",
   "metadata": {},
   "source": [
    "While -> Executa comandos dentro do bloco while enquanto a condição é verdadeira\n"
   ]
  },
  {
   "cell_type": "code",
   "execution_count": 9,
   "id": "e333fd3b",
   "metadata": {},
   "outputs": [
    {
     "name": "stdout",
     "output_type": "stream",
     "text": [
      "x =  512\n",
      "x =  256\n",
      "x =  128\n",
      "x =  64\n",
      "x =  32\n",
      "x =  16\n",
      "x =  8\n",
      "x =  4\n",
      "x =  2\n"
     ]
    }
   ],
   "source": [
    "x = 512\n",
    "while x >1:\n",
    "    print('x = ', x)\n",
    "    x = x // 2 # Divisão inteira"
   ]
  },
  {
   "cell_type": "markdown",
   "id": "66938f4a",
   "metadata": {},
   "source": [
    "For -> permite iterar por valores dentro de uma entrutura\n"
   ]
  },
  {
   "cell_type": "code",
   "execution_count": 10,
   "id": "6ce4f187",
   "metadata": {},
   "outputs": [
    {
     "name": "stdout",
     "output_type": "stream",
     "text": [
      "42\n",
      "Python\n",
      "3.14159\n"
     ]
    }
   ],
   "source": [
    "lista2 = [42, \"Python\", 3.14159]\n",
    "\n",
    "for valor in lista2:\n",
    "    print(valor)"
   ]
  },
  {
   "cell_type": "code",
   "execution_count": 11,
   "id": "c99ecaba",
   "metadata": {},
   "outputs": [
    {
     "name": "stdout",
     "output_type": "stream",
     "text": [
      "[0, 5):\n",
      "0\n",
      "1\n",
      "2\n",
      "3\n",
      "4\n",
      "\n",
      "[2, 8):\n",
      "2\n",
      "3\n",
      "4\n",
      "5\n",
      "6\n",
      "7\n",
      "\n",
      "[4, 9) com passo 2:\n",
      "4\n",
      "6\n",
      "8\n"
     ]
    }
   ],
   "source": [
    "print(\"[0, 5):\")\n",
    "for i in range(5):\n",
    "    print(i)\n",
    "\n",
    "print()\n",
    "    \n",
    "print(\"[2, 8):\")\n",
    "for j in range(2, 8):\n",
    "    print(j)\n",
    "    \n",
    "print()\n",
    "    \n",
    "print(\"[4, 9) com passo 2:\")\n",
    "for k in range(4, 9, 2):\n",
    "    print(k)"
   ]
  },
  {
   "cell_type": "markdown",
   "id": "b879555f",
   "metadata": {},
   "source": [
    "## Tuplas\n",
    "Tuplas funcionam como listas homogeneas de tamanho fixo e imutáveis\n",
    "\n"
   ]
  },
  {
   "cell_type": "code",
   "execution_count": 12,
   "id": "99877d2d",
   "metadata": {},
   "outputs": [
    {
     "name": "stdout",
     "output_type": "stream",
     "text": [
      "Louis XIV\n",
      "Aristoteles Grécia\n"
     ]
    }
   ],
   "source": [
    "louis = ('Louis XIV', 'França')\n",
    "beethoven = ('Beethoven', 'Alemanha')\n",
    "aristoteles = ('Aristoteles', 'Grécia') \n",
    "#Acessando valores\n",
    "print(louis[0]) # Nome\n",
    "\n",
    "#Descontrução em tuplas\n",
    "nome, pais = aristoteles\n",
    "print(nome, pais)"
   ]
  },
  {
   "cell_type": "markdown",
   "id": "ea1f6383",
   "metadata": {},
   "source": [
    "## Funçõe4s\n"
   ]
  },
  {
   "cell_type": "code",
   "execution_count": null,
   "id": "d011e00e",
   "metadata": {},
   "outputs": [
    {
     "name": "stdout",
     "output_type": "stream",
     "text": [
      "30\n",
      "15\n"
     ]
    }
   ],
   "source": [
    "def soma(x, y = 5):\n",
    "    z = x + y\n",
    "    return z\n",
    "\n",
    "print(soma(10, 20)) # Passando dois argumentos\n",
    "print(soma(10)) # Passando apenas o primeiro argumento"
   ]
  },
  {
   "cell_type": "code",
   "execution_count": 14,
   "id": "7eb0d741",
   "metadata": {},
   "outputs": [
    {
     "name": "stdout",
     "output_type": "stream",
     "text": [
      "0 é par\n",
      "1 é ímpar\n",
      "2 é par\n",
      "3 é ímpar\n",
      "4 é par\n",
      "5 é ímpar\n",
      "6 é par\n",
      "7 é ímpar\n",
      "8 é par\n",
      "9 é ímpar\n"
     ]
    }
   ],
   "source": [
    "#Função sem retorno\n",
    "def mostra_paridade(valores):\n",
    "    for valor in valores:\n",
    "        if valor % 2 == 0:\n",
    "            print(valor, \"é par\")\n",
    "        else:\n",
    "            print(valor, \"é ímpar\")\n",
    "mostra_paridade(range(0, 10))"
   ]
  },
  {
   "cell_type": "markdown",
   "id": "61eebb03",
   "metadata": {},
   "source": [
    "## Funções anonimas\n",
    "Chamadas de funções lambdas sao funções que podem ser salvas em variaveis\n"
   ]
  },
  {
   "cell_type": "code",
   "execution_count": 15,
   "id": "aa8de0e0",
   "metadata": {},
   "outputs": [
    {
     "name": "stdout",
     "output_type": "stream",
     "text": [
      "Alvaro tem 21 anos\n"
     ]
    }
   ],
   "source": [
    "mostra_passos = lambda nome, idade: nome + \" tem \" + str(idade) + \" anos\"\n",
    "print(mostra_passos(\"Alvaro\", 21))"
   ]
  },
  {
   "cell_type": "code",
   "execution_count": 16,
   "id": "b7c10bc3",
   "metadata": {},
   "outputs": [
    {
     "name": "stdout",
     "output_type": "stream",
     "text": [
      "Ordem crescente:  [(-1, 0), (2, 5), (2, -3), (6, 3)]\n",
      "Ordem decrescente:  [(6, 3), (2, 5), (2, -3), (-1, 0)]\n"
     ]
    }
   ],
   "source": [
    "pontos = [(2, 5), (-1, 0), (6, 3), (2, -3)]\n",
    "\n",
    "pontos_crescentes_em_x = sorted(pontos, key=lambda p: p[0])\n",
    "pontos_decrescentes_em_x = sorted(pontos, key=lambda p: p[0], reverse = True)\n",
    "\n",
    "print('Ordem crescente: ', pontos_crescentes_em_x)\n",
    "print('Ordem decrescente: ',pontos_decrescentes_em_x)"
   ]
  },
  {
   "cell_type": "code",
   "execution_count": 17,
   "id": "03a7cab9",
   "metadata": {},
   "outputs": [
    {
     "data": {
      "text/plain": [
       "[(-1, 0), (2, 5), (2, -3), (6, 3)]"
      ]
     },
     "execution_count": 17,
     "metadata": {},
     "output_type": "execute_result"
    }
   ],
   "source": [
    "from operator import itemgetter\n",
    "\n",
    "sorted(pontos, key=itemgetter(0))"
   ]
  },
  {
   "cell_type": "markdown",
   "id": "4723a159",
   "metadata": {},
   "source": [
    "## Arrays do Numpy\n",
    "\n",
    "Arrays do numpy sao  mais eficientes e oferecem mais operações úteis relacionadas a manipulação de vetores e matrizes algébricas"
   ]
  },
  {
   "cell_type": "code",
   "execution_count": 18,
   "id": "cfc5163b",
   "metadata": {},
   "outputs": [],
   "source": [
    "import numpy as np\n",
    "vetor = np.array([1, 2, 3])\n"
   ]
  },
  {
   "cell_type": "code",
   "execution_count": 20,
   "id": "e6d28f98",
   "metadata": {},
   "outputs": [
    {
     "name": "stdout",
     "output_type": "stream",
     "text": [
      "[1. 2. 3.]\n",
      "float64\n",
      "[1 2 3]\n",
      "int8\n"
     ]
    }
   ],
   "source": [
    "vetor_float = np.array([1.0, 2.0, 3.0])\n",
    "print(vetor_float)\n",
    "print(vetor_float.dtype) # Tipo do vetor\n",
    "\n",
    "vetor_int = np.array([1, 2, 3], dtype = np.int8) # Definindo o tipo do vetor\n",
    "print(vetor_int)\n",
    "print(vetor_int.dtype) # Tipo do vetor\n"
   ]
  },
  {
   "cell_type": "code",
   "execution_count": 21,
   "id": "5a5460cf",
   "metadata": {},
   "outputs": [
    {
     "name": "stdout",
     "output_type": "stream",
     "text": [
      "[[1 2 3]\n",
      " [4 5 6]\n",
      " [7 8 9]]\n",
      "(3, 3)\n"
     ]
    }
   ],
   "source": [
    "#Matrizes \n",
    "matriz = np.array([[1, 2, 3], [4, 5, 6], [7, 8, 9]])\n",
    "\n",
    "print(matriz)\n",
    "print(matriz.shape) # Dimensões da matriz\n"
   ]
  },
  {
   "cell_type": "markdown",
   "id": "7ddf3e69",
   "metadata": {},
   "source": [
    "## Funções e operações relevantes \n",
    "\n",
    "Criação de arrays"
   ]
  },
  {
   "cell_type": "code",
   "execution_count": 23,
   "id": "fead6359",
   "metadata": {},
   "outputs": [
    {
     "name": "stdout",
     "output_type": "stream",
     "text": [
      "Array tamanho 2x4 preenchido com 1\n",
      "[[1. 1. 1. 1.]\n",
      " [1. 1. 1. 1.]]\n",
      "Array tamanho 2x4 preenchido com 0\n",
      "[[0. 0. 0. 0.]\n",
      " [0. 0. 0. 0.]]\n",
      "Array 3x4 com valores aleatorios em [0,10]   \n",
      "[[5 0 3 3]\n",
      " [7 9 3 5]\n",
      " [2 4 7 6]]\n",
      "Array 3x4 com valores  em [0,1] com passo de 0.1  \n",
      "[0.  0.1 0.2 0.3 0.4 0.5 0.6 0.7 0.8 0.9]\n"
     ]
    }
   ],
   "source": [
    "print('Array tamanho 2x4 preenchido com 1')\n",
    "print(np.ones((2, 4))) # Array de 2x4 preenchido com 1\n",
    "print('Array tamanho 2x4 preenchido com 0')\n",
    "print(np.zeros((2, 4))) # Array de 2x4 preenchido com 0\n",
    "print('Array 3x4 com valores aleatorios em [0,10]   ')\n",
    "np.random.seed(0) # Semente para gerar os mesmos números aleatórios\n",
    "print(np.random.randint(0, 10, (3, 4))) # Array 3x4 com valores aleatórios em [0,10]\n",
    "print('Array 3x4 com valores  em [0,1] com passo de 0.1  ')\n",
    "print(np.arange(0, 1, 0.1)) # Array 3x4 com valores em [0,1] com passo de 0.1"
   ]
  },
  {
   "cell_type": "markdown",
   "id": "ab1fa3c6",
   "metadata": {},
   "source": [
    "## Transposta e concatenação:"
   ]
  },
  {
   "cell_type": "code",
   "execution_count": 24,
   "id": "6e90387b",
   "metadata": {},
   "outputs": [
    {
     "name": "stdout",
     "output_type": "stream",
     "text": [
      "[[1 2 3]\n",
      " [4 5 6]]\n",
      "\n",
      "Transposta\n",
      "[[1 4]\n",
      " [2 5]\n",
      " [3 6]]\n",
      "[[1 2]\n",
      " [3 4]]\n",
      "\n",
      "Matriz 3x3:\n",
      "[[ 6  7  8]\n",
      " [ 9 10 11]\n",
      " [12 13 14]]\n",
      "\n",
      "Matriz 2x3 e Matriz 3x3 - Concatenação no eixo das linhas (eixo 0):\n",
      "[[ 1  2  3]\n",
      " [ 4  5  6]\n",
      " [ 6  7  8]\n",
      " [ 9 10 11]\n",
      " [12 13 14]]\n",
      "\n",
      "Matriz 2x3 e Matriz 2x2 - Concatenação no eixo das colunas (eixo 1):\n",
      "[[1 2 3 1 2]\n",
      " [4 5 6 3 4]]\n"
     ]
    }
   ],
   "source": [
    "matriz_2x3 = np.array([[1, 2, 3], [4, 5, 6]])\n",
    "print(matriz_2x3)\n",
    "\n",
    "print('\\nTransposta')\n",
    "print(matriz_2x3.T) # Transposta da matriz\n",
    "\n",
    "matriz_2x2 = np.array([[1, 2], [3, 4]])\n",
    "print(matriz_2x2)\n",
    "\n",
    "matriz_3x3 = np.array([[6, 7, 8], [9, 10, 11], [12, 13, 14]])\n",
    "print('\\nMatriz 3x3:')\n",
    "print(matriz_3x3)\n",
    "\n",
    "print('\\nMatriz 2x3 e Matriz 3x3 - Concatenação no eixo das linhas (eixo 0):')\n",
    "print(np.concatenate([matriz_2x3, matriz_3x3], axis=0))\n",
    "\n",
    "print('\\nMatriz 2x3 e Matriz 2x2 - Concatenação no eixo das colunas (eixo 1):')\n",
    "#Exige que o numero de linhas seja o mesmo nas duas matrizes. com axis =1\n",
    "print(np.concatenate([matriz_2x3, matriz_2x2], axis=1))"
   ]
  },
  {
   "cell_type": "markdown",
   "id": "16eb9982",
   "metadata": {},
   "source": [
    "## Indexação de matrizes \n"
   ]
  },
  {
   "cell_type": "code",
   "execution_count": 25,
   "id": "ef4be996",
   "metadata": {},
   "outputs": [
    {
     "name": "stdout",
     "output_type": "stream",
     "text": [
      "Linha de índice 0: [0 1 2]\n",
      "Linha 2 e coluna 1: 7\n",
      "Todas linhas e coluna 1: [ 1  4  7 10]\n",
      "Linhas [1, 3) e colunas >= 1:\n",
      " [[4 5]\n",
      " [7 8]]\n",
      "int32\n"
     ]
    }
   ],
   "source": [
    "matriz_4x3 = np.array([[0,  1,  2],\n",
    "                       [3,  4,  5],\n",
    "                       [6,  7,  8],\n",
    "                       [9, 10, 11]])\n",
    "\n",
    "print(\"Linha de índice 0:\", matriz_4x3[0]) # linha de índice 0\n",
    "print(\"Linha 2 e coluna 1:\", matriz_4x3[2, 1]) # linha de índice 2 ([6, 7, 8]) e coluna de índice 1\n",
    "print(\"Todas linhas e coluna 1:\", matriz_4x3[:, 1]) # todas as linhas e coluna de índice 1\n",
    "print(\"Linhas [1, 3) e colunas >= 1:\\n\", matriz_4x3[1:3, 1:]) # linhas [1, 3), todas as colunas a partir de 1\n",
    "print(matriz_4x3.dtype)"
   ]
  },
  {
   "cell_type": "markdown",
   "id": "96e44083",
   "metadata": {},
   "source": [
    "## Operações"
   ]
  },
  {
   "cell_type": "code",
   "execution_count": 26,
   "id": "e6a1a987",
   "metadata": {},
   "outputs": [
    {
     "name": "stdout",
     "output_type": "stream",
     "text": [
      "Multiplicação com escalar:\n",
      "[[2. 2. 2.]\n",
      " [2. 2. 2.]]\n",
      "\n",
      "Soma com escalar:\n",
      "[3. 3. 3. 3. 3. 3.]\n",
      "\n",
      "Soma ponto-a-ponto:\n",
      "[[11. 11.]\n",
      " [11. 11.]]\n",
      "\n",
      "Multiplicação ponto-a-ponto:\n",
      "[10. 10. 10. 10.]\n",
      "\n",
      "Multiplicação matricial:\n",
      "[[19 22]\n",
      " [43 50]]\n",
      "\n",
      "Produto escalar:\n",
      "2\n"
     ]
    }
   ],
   "source": [
    "print('Multiplicação com escalar:')\n",
    "print(np.ones((2, 3)) * 2)\n",
    "\n",
    "print('\\nSoma com escalar:')\n",
    "print(np.zeros(6) + 3)\n",
    "\n",
    "print('\\nSoma ponto-a-ponto:')\n",
    "# Equivalente a [[1, 1], [1, 1]] + [[10, 10], [10, 10]]:\n",
    "print(np.ones((2, 2)) + 10 * np.ones((2, 2)))\n",
    "\n",
    "print('\\nMultiplicação ponto-a-ponto:')\n",
    "# Equivalente a [2, 2, 2, 2] * [5, 5, 5, 5]:\n",
    "print((2 * np.ones(4)) * (5 * np.ones(4)))\n",
    "\n",
    "print('\\nMultiplicação matricial:')\n",
    "print(\n",
    "    np.matmul(\n",
    "        np.array([[1, 2],\n",
    "                  [3, 4]]),\n",
    "        np.array([[5, 6],\n",
    "                  [7, 8]])))\n",
    "\n",
    "print('\\nProduto escalar:')\n",
    "#Equivalente a 1 * (-1) + 2 * 0 + 3 * 1:\n",
    "print(np.dot(np.array([1, 2, 3]), np.array([-1, 0, 1])))"
   ]
  },
  {
   "cell_type": "code",
   "execution_count": 32,
   "id": "47f1c1ac",
   "metadata": {},
   "outputs": [
    {
     "name": "stdout",
     "output_type": "stream",
     "text": [
      "[[[ 6  1  3]\n",
      "  [10  3  2]\n",
      "  [ 3  5  5]\n",
      "  [10  4  3]\n",
      "  [ 7  4  9]\n",
      "  [ 7  1  9]\n",
      "  [ 4  8  6]\n",
      "  [ 6  0  7]]\n",
      "\n",
      " [[ 9  8  2]\n",
      "  [ 2  2  1]\n",
      "  [ 7  6  4]\n",
      "  [ 7  9 10]\n",
      "  [ 1 10  5]\n",
      "  [ 1  5  7]\n",
      "  [ 8  4  5]\n",
      "  [ 3  2  9]]\n",
      "\n",
      " [[ 7  2  4]\n",
      "  [ 7  4  5]\n",
      "  [ 2  0  0]\n",
      "  [ 6  5  6]\n",
      "  [ 5  5  4]\n",
      "  [ 0  1  3]\n",
      "  [ 8  7  9]\n",
      "  [ 4  8  5]]\n",
      "\n",
      " [[10  5  4]\n",
      "  [ 0  5  6]\n",
      "  [ 1  9  3]\n",
      "  [ 0  4  3]\n",
      "  [ 1  4  9]\n",
      "  [ 3  0  4]\n",
      "  [ 3  1  2]\n",
      "  [ 9  5  5]]\n",
      "\n",
      " [[ 0  6  6]\n",
      "  [ 8  1  2]\n",
      "  [ 3  8  7]\n",
      "  [ 5  0 10]\n",
      "  [10  1  7]\n",
      "  [ 6 10  4]\n",
      "  [ 2  9  6]\n",
      "  [ 9  5  3]]\n",
      "\n",
      " [[ 7  2  9]\n",
      "  [10 10  8]\n",
      "  [ 9  3  9]\n",
      "  [ 7  6  0]\n",
      "  [ 1  4  1]\n",
      "  [ 7 10  1]\n",
      "  [ 9  2  2]\n",
      "  [ 3  7  9]]\n",
      "\n",
      " [[ 1  6  4]\n",
      "  [ 3  3  4]\n",
      "  [ 5  8  7]\n",
      "  [ 8  5  7]\n",
      "  [ 2  4  4]\n",
      "  [ 5  2  8]\n",
      "  [ 6  2  8]\n",
      "  [ 4  8  7]]\n",
      "\n",
      " [[ 8  3  3]\n",
      "  [ 6  8  7]\n",
      "  [ 0  1  5]\n",
      "  [ 5  3  3]\n",
      "  [ 9 10  2]\n",
      "  [ 8  2  4]\n",
      "  [ 1  9  3]\n",
      "  [ 7  8  3]]]\n",
      "[[[ 1  0  3]\n",
      "  [ 9  7 10]\n",
      "  [ 2  8  9]\n",
      "  [ 6  4  4]\n",
      "  [10  1  9]\n",
      "  [ 1  3  5]\n",
      "  [ 9  8  3]\n",
      "  [ 5  0 10]]\n",
      "\n",
      " [[ 6  5  8]\n",
      "  [ 9  3  7]\n",
      "  [ 3  5  8]\n",
      "  [ 2  0  1]\n",
      "  [ 8  9  8]\n",
      "  [ 0  4  3]\n",
      "  [ 7  2  1]\n",
      "  [ 6  7  7]]\n",
      "\n",
      " [[ 9  3  1]\n",
      "  [ 1  3  7]\n",
      "  [ 5  3  5]\n",
      "  [ 5 10  5]\n",
      "  [ 9  4  5]\n",
      "  [ 3  4  1]\n",
      "  [ 5  2  5]\n",
      "  [ 4  8  2]]\n",
      "\n",
      " [[ 6  8  1]\n",
      "  [ 9  7  9]\n",
      "  [10  6  6]\n",
      "  [ 3  3  1]\n",
      "  [ 0  3  0]\n",
      "  [ 9  0  8]\n",
      "  [ 5  7  3]\n",
      "  [ 5  3  3]]\n",
      "\n",
      " [[ 9  9  9]\n",
      "  [10  3  8]\n",
      "  [ 3  7  1]\n",
      "  [ 7  6  8]\n",
      "  [ 2  6  2]\n",
      "  [ 4  5  5]\n",
      "  [ 8  3  4]\n",
      "  [ 6  7  9]]\n",
      "\n",
      " [[ 8  3  4]\n",
      "  [ 3  8 10]\n",
      "  [ 0  3  0]\n",
      "  [ 1  1  7]\n",
      "  [ 5  3  9]\n",
      "  [10  4  4]\n",
      "  [ 8  4  7]\n",
      "  [ 3  5  6]]\n",
      "\n",
      " [[ 9  4  8]\n",
      "  [ 8 10  7]\n",
      "  [ 2  7  8]\n",
      "  [ 6  1 10]\n",
      "  [ 1  7  6]\n",
      "  [ 8  3  4]\n",
      "  [ 4  8  8]\n",
      "  [10  0  0]]\n",
      "\n",
      " [[ 5  3  8]\n",
      "  [ 0  4  6]\n",
      "  [ 4  8 10]\n",
      "  [ 4  7  5]\n",
      "  [ 1  5  0]\n",
      "  [ 4  6  5]\n",
      "  [ 7  2  7]\n",
      "  [10  2  7]]]\n",
      "int8 int8\n"
     ]
    }
   ],
   "source": [
    "np.random.seed(42)\n",
    "a = np.random.randint(0,11,size = (8, 8 ,3), dtype = np.int8)\n",
    "b = np.random.randint(0,11,size = (8,8,3), dtype = np.int8)\n",
    "print(a)\n",
    "print(b)\n",
    "print(a.dtype, b.dtype) # Tipo do vetor"
   ]
  },
  {
   "cell_type": "code",
   "execution_count": null,
   "id": "2c1bc8eb",
   "metadata": {},
   "outputs": [
    {
     "data": {
      "text/plain": [
       "array([[[3.5, 0.5, 3. ],\n",
       "        [9.5, 5. , 6. ],\n",
       "        [2.5, 6.5, 7. ],\n",
       "        [8. , 4. , 3.5],\n",
       "        [8.5, 2.5, 9. ],\n",
       "        [4. , 2. , 7. ],\n",
       "        [6.5, 8. , 4.5],\n",
       "        [5.5, 0. , 8.5]],\n",
       "\n",
       "       [[7.5, 6.5, 5. ],\n",
       "        [5.5, 2.5, 4. ],\n",
       "        [5. , 5.5, 6. ],\n",
       "        [4.5, 4.5, 5.5],\n",
       "        [4.5, 9.5, 6.5],\n",
       "        [0.5, 4.5, 5. ],\n",
       "        [7.5, 3. , 3. ],\n",
       "        [4.5, 4.5, 8. ]],\n",
       "\n",
       "       [[8. , 2.5, 2.5],\n",
       "        [4. , 3.5, 6. ],\n",
       "        [3.5, 1.5, 2.5],\n",
       "        [5.5, 7.5, 5.5],\n",
       "        [7. , 4.5, 4.5],\n",
       "        [1.5, 2.5, 2. ],\n",
       "        [6.5, 4.5, 7. ],\n",
       "        [4. , 8. , 3.5]],\n",
       "\n",
       "       [[8. , 6.5, 2.5],\n",
       "        [4.5, 6. , 7.5],\n",
       "        [5.5, 7.5, 4.5],\n",
       "        [1.5, 3.5, 2. ],\n",
       "        [0.5, 3.5, 4.5],\n",
       "        [6. , 0. , 6. ],\n",
       "        [4. , 4. , 2.5],\n",
       "        [7. , 4. , 4. ]],\n",
       "\n",
       "       [[4.5, 7.5, 7.5],\n",
       "        [9. , 2. , 5. ],\n",
       "        [3. , 7.5, 4. ],\n",
       "        [6. , 3. , 9. ],\n",
       "        [6. , 3.5, 4.5],\n",
       "        [5. , 7.5, 4.5],\n",
       "        [5. , 6. , 5. ],\n",
       "        [7.5, 6. , 6. ]],\n",
       "\n",
       "       [[7.5, 2.5, 6.5],\n",
       "        [6.5, 9. , 9. ],\n",
       "        [4.5, 3. , 4.5],\n",
       "        [4. , 3.5, 3.5],\n",
       "        [3. , 3.5, 5. ],\n",
       "        [8.5, 7. , 2.5],\n",
       "        [8.5, 3. , 4.5],\n",
       "        [3. , 6. , 7.5]],\n",
       "\n",
       "       [[5. , 5. , 6. ],\n",
       "        [5.5, 6.5, 5.5],\n",
       "        [3.5, 7.5, 7.5],\n",
       "        [7. , 3. , 8.5],\n",
       "        [1.5, 5.5, 5. ],\n",
       "        [6.5, 2.5, 6. ],\n",
       "        [5. , 5. , 8. ],\n",
       "        [7. , 4. , 3.5]],\n",
       "\n",
       "       [[6.5, 3. , 5.5],\n",
       "        [3. , 6. , 6.5],\n",
       "        [2. , 4.5, 7.5],\n",
       "        [4.5, 5. , 4. ],\n",
       "        [5. , 7.5, 1. ],\n",
       "        [6. , 4. , 4.5],\n",
       "        [4. , 5.5, 5. ],\n",
       "        [8.5, 5. , 5. ]]])"
      ]
     },
     "execution_count": 34,
     "metadata": {},
     "output_type": "execute_result"
    }
   ],
   "source": [
    "c= np.mean([a,b], axis = 0) # Axis =0 faz a media ponto a ponto, axis =1 compara dentro de cada array\n",
    "c # Média entre os dois vetores"
   ]
  },
  {
   "cell_type": "code",
   "execution_count": 37,
   "id": "7f5561a3",
   "metadata": {},
   "outputs": [
    {
     "name": "stdout",
     "output_type": "stream",
     "text": [
      "[[ 8.  2.  6.]\n",
      " [ 2.  4.  0.]\n",
      " [ 5.  5.  9.]\n",
      " [ 6.  1.  8.]\n",
      " [ 2. 10.  3.]\n",
      " [ 6.  3.  8.]\n",
      " [ 3.  8.  1.]]\n"
     ]
    }
   ],
   "source": [
    "#Concatenação horizontal (axis = 1) e vertical (axis = 0)\n",
    "d = np.concatenate([a,b,c], axis = 1)\n",
    "#Guardar o subarray\n",
    "subarray = d[1:8,0:3,1]\n",
    "print(subarray)"
   ]
  },
  {
   "cell_type": "code",
   "execution_count": null,
   "id": "53f5995a",
   "metadata": {},
   "outputs": [
    {
     "ename": "AttributeError",
     "evalue": "module 'numpy' has no attribute 'mul'",
     "output_type": "error",
     "traceback": [
      "\u001b[1;31m---------------------------------------------------------------------------\u001b[0m",
      "\u001b[1;31mAttributeError\u001b[0m                            Traceback (most recent call last)",
      "Cell \u001b[1;32mIn[39], line 2\u001b[0m\n\u001b[0;32m      1\u001b[0m a\u001b[38;5;241m.\u001b[39mshape,b\u001b[38;5;241m.\u001b[39mshape\n\u001b[1;32m----> 2\u001b[0m np\u001b[38;5;241m.\u001b[39mmul(a\u001b[38;5;241m.\u001b[39mshape[\u001b[38;5;241m2\u001b[39m], )\n",
      "File \u001b[1;32mc:\\Users\\vish8\\anaconda3\\Lib\\site-packages\\numpy\\__init__.py:333\u001b[0m, in \u001b[0;36m__getattr__\u001b[1;34m(attr)\u001b[0m\n\u001b[0;32m    330\u001b[0m     \u001b[38;5;124m\"\u001b[39m\u001b[38;5;124mRemoved in NumPy 1.25.0\u001b[39m\u001b[38;5;124m\"\u001b[39m\n\u001b[0;32m    331\u001b[0m     \u001b[38;5;28;01mraise\u001b[39;00m \u001b[38;5;167;01mRuntimeError\u001b[39;00m(\u001b[38;5;124m\"\u001b[39m\u001b[38;5;124mTester was removed in NumPy 1.25.\u001b[39m\u001b[38;5;124m\"\u001b[39m)\n\u001b[1;32m--> 333\u001b[0m \u001b[38;5;28;01mraise\u001b[39;00m \u001b[38;5;167;01mAttributeError\u001b[39;00m(\u001b[38;5;124m\"\u001b[39m\u001b[38;5;124mmodule \u001b[39m\u001b[38;5;132;01m{!r}\u001b[39;00m\u001b[38;5;124m has no attribute \u001b[39m\u001b[38;5;124m\"\u001b[39m\n\u001b[0;32m    334\u001b[0m                      \u001b[38;5;124m\"\u001b[39m\u001b[38;5;132;01m{!r}\u001b[39;00m\u001b[38;5;124m\"\u001b[39m\u001b[38;5;241m.\u001b[39mformat(\u001b[38;5;18m__name__\u001b[39m, attr))\n",
      "\u001b[1;31mAttributeError\u001b[0m: module 'numpy' has no attribute 'mul'"
     ]
    }
   ],
   "source": [
    "a.shape,b.shape\n",
    "np.mul(a.shape[2],b.shape[2]) # Multiplicação de matrizes)"
   ]
  },
  {
   "cell_type": "code",
   "execution_count": 41,
   "id": "2cf256e2",
   "metadata": {},
   "outputs": [],
   "source": [
    "mult = np.matmul(a[:,:,0], b[:,:,1])"
   ]
  },
  {
   "cell_type": "markdown",
   "id": "a714a705",
   "metadata": {},
   "source": [
    "5. Crie uma função que receba um array bidimensional e retorne uma tupla `(m, p)`, onde `m` é o maior valor e `p` é a posição `(x, y)` no array onde se encontra `m`. Faça uso do `while` ou do `for` vistos acima. Caso tenha mais de uma posição com valor máximo, utilize a posição mais antiga."
   ]
  },
  {
   "cell_type": "code",
   "execution_count": null,
   "id": "9b093c54",
   "metadata": {},
   "outputs": [],
   "source": [
    "#5. Crie uma função que receba um array bidimensional e retorne uma tupla `(m, p)`, onde `m` é o maior valor e `p` é a posição `(x, y)` no array onde se encontra `m`. Faça uso do `while` ou do `for` vistos acima. Caso tenha mais de uma posição com valor máximo, utilize a posição mais antiga- USANDO NUMPY.\n",
    "def maior_valor(matriz):\n",
    "    if matriz.shape != 2:\n",
    "        raise ValueError(\"A matriz deve ser bidimensional\")\n",
    "\n",
    "    else\n",
    "        break\n"
   ]
  }
 ],
 "metadata": {
  "kernelspec": {
   "display_name": "base",
   "language": "python",
   "name": "python3"
  },
  "language_info": {
   "codemirror_mode": {
    "name": "ipython",
    "version": 3
   },
   "file_extension": ".py",
   "mimetype": "text/x-python",
   "name": "python",
   "nbconvert_exporter": "python",
   "pygments_lexer": "ipython3",
   "version": "3.12.7"
  }
 },
 "nbformat": 4,
 "nbformat_minor": 5
}
